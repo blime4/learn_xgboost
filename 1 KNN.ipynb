{
 "cells": [
  {
   "cell_type": "code",
   "execution_count": 1,
   "metadata": {
    "ExecuteTime": {
     "end_time": "2020-07-12T05:30:22.870038Z",
     "start_time": "2020-07-12T05:30:22.864184Z"
    }
   },
   "outputs": [],
   "source": [
    "import csv\n",
    "import random"
   ]
  },
  {
   "cell_type": "code",
   "execution_count": 2,
   "metadata": {
    "ExecuteTime": {
     "end_time": "2020-07-12T05:30:22.877316Z",
     "start_time": "2020-07-12T05:30:22.872233Z"
    }
   },
   "outputs": [],
   "source": [
    "with open('./data/Prostate_Cancer.csv', 'r') as file:\n",
    "    reader = csv.DictReader(file)\n",
    "    datas = [row for row in reader]"
   ]
  },
  {
   "cell_type": "code",
   "execution_count": 3,
   "metadata": {
    "ExecuteTime": {
     "end_time": "2020-07-12T05:30:22.883186Z",
     "start_time": "2020-07-12T05:30:22.879691Z"
    }
   },
   "outputs": [],
   "source": [
    "random.shuffle(datas)\n",
    "n = len(datas)//3\n",
    "test_set = datas[0:n]\n",
    "train_set = datas[n:]\n"
   ]
  },
  {
   "cell_type": "code",
   "execution_count": 4,
   "metadata": {
    "ExecuteTime": {
     "end_time": "2020-07-12T05:30:22.888791Z",
     "start_time": "2020-07-12T05:30:22.885128Z"
    }
   },
   "outputs": [],
   "source": [
    "def distance(d1,d2):\n",
    "    res = 0\n",
    "    for key in (\"radius\",\"texture\",\"perimeter\",\"area\",\"smoothness\",\"compactness\",\"symmetry\",\"fractal_dimension\"):\n",
    "        res += (float(d1[key])-float(d2[key]))**2\n",
    "    return res**0.5\n"
   ]
  },
  {
   "cell_type": "code",
   "execution_count": 5,
   "metadata": {
    "ExecuteTime": {
     "end_time": "2020-07-12T05:30:22.895506Z",
     "start_time": "2020-07-12T05:30:22.890217Z"
    }
   },
   "outputs": [],
   "source": [
    "K = 5\n",
    "\n",
    "def knn(data):\n",
    "    \n",
    "    res = [\n",
    "        {\"result\":train['diagnosis_result'],\"distance\":distance(data,train)}\n",
    "        for train in train_set\n",
    "    ]\n",
    "    \n",
    "    res = sorted(res,key = lambda item:item['distance'])[0:K]\n",
    "    \n",
    "    result={\"B\":0,\"M\":0}\n",
    "    \n",
    "    sum = 0\n",
    "    for r in res:\n",
    "        sum += r['distance']\n",
    "    for r in res:\n",
    "        result[r['result']] += 1-r['distance']/sum\n",
    "    \n",
    "    if result[\"B\"]>result[\"M\"]:\n",
    "        return \"B\"\n",
    "    else:\n",
    "        return \"M\""
   ]
  },
  {
   "cell_type": "code",
   "execution_count": 6,
   "metadata": {
    "ExecuteTime": {
     "end_time": "2020-07-12T05:30:22.911135Z",
     "start_time": "2020-07-12T05:30:22.896827Z"
    }
   },
   "outputs": [
    {
     "name": "stdout",
     "output_type": "stream",
     "text": [
      "准确率：81.82%\n"
     ]
    }
   ],
   "source": [
    "correct = 0\n",
    "for test in test_set:\n",
    "    result = test['diagnosis_result']\n",
    "    result2 = knn(test)\n",
    "    \n",
    "    if result ==result2:\n",
    "        correct += 1\n",
    "\n",
    "print(\"准确率：{:.2f}%\".format(100*correct/len(test_set)))"
   ]
  },
  {
   "cell_type": "code",
   "execution_count": null,
   "metadata": {},
   "outputs": [],
   "source": []
  }
 ],
 "metadata": {
  "kernelspec": {
   "display_name": "Python 3.6.9 64-bit",
   "language": "python",
   "name": "python36964bit7e091a4bc7ad4c03b45358b2d91294f7"
  },
  "language_info": {
   "codemirror_mode": {
    "name": "ipython",
    "version": 3
   },
   "file_extension": ".py",
   "mimetype": "text/x-python",
   "name": "python",
   "nbconvert_exporter": "python",
   "pygments_lexer": "ipython3",
   "version": "3.6.9"
  },
  "toc": {
   "base_numbering": 1,
   "nav_menu": {},
   "number_sections": true,
   "sideBar": true,
   "skip_h1_title": false,
   "title_cell": "Table of Contents",
   "title_sidebar": "Contents",
   "toc_cell": false,
   "toc_position": {},
   "toc_section_display": true,
   "toc_window_display": false
  },
  "varInspector": {
   "cols": {
    "lenName": 16,
    "lenType": 16,
    "lenVar": 40
   },
   "kernels_config": {
    "python": {
     "delete_cmd_postfix": "",
     "delete_cmd_prefix": "del ",
     "library": "var_list.py",
     "varRefreshCmd": "print(var_dic_list())"
    },
    "r": {
     "delete_cmd_postfix": ") ",
     "delete_cmd_prefix": "rm(",
     "library": "var_list.r",
     "varRefreshCmd": "cat(var_dic_list()) "
    }
   },
   "types_to_exclude": [
    "module",
    "function",
    "builtin_function_or_method",
    "instance",
    "_Feature"
   ],
   "window_display": false
  }
 },
 "nbformat": 4,
 "nbformat_minor": 4
}
